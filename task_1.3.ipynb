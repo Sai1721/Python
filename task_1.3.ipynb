{
 "cells": [
  {
   "cell_type": "code",
   "execution_count": null,
   "metadata": {},
   "outputs": [],
   "source": [
    "num=input(\"Input a number: \")\n",
    "sum=0\n",
    "for digit in num:\n",
    "    sum+=int(digit)\n",
    "print(\"The sum of digits of\",num,\"is:\",sum)"
   ]
  }
 ],
 "metadata": {
  "language_info": {
   "name": "python"
  }
 },
 "nbformat": 4,
 "nbformat_minor": 2
}
