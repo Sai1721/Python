{
 "cells": [
  {
   "cell_type": "code",
   "execution_count": 14,
   "metadata": {},
   "outputs": [
    {
     "name": "stdout",
     "output_type": "stream",
     "text": [
      "Number is:  1  and the cube of  1  is:  1\n",
      "Number is:  2  and the cube of  2  is:  8\n",
      "Number is:  3  and the cube of  3  is:  27\n",
      "Number is:  4  and the cube of  4  is:  64\n",
      "Number is:  5  and the cube of  5  is:  125\n"
     ]
    }
   ],
   "source": [
    "num= int(input(\"Input the number of terms: \"))\n",
    "for i in range(1,num+1):\n",
    "    print(\"Number is: \",str(i),\" and the cube of \",str(i),\" is: \",str(i ** 3))\n"
   ]
  }
 ],
 "metadata": {
  "kernelspec": {
   "display_name": "Python 3",
   "language": "python",
   "name": "python3"
  },
  "language_info": {
   "codemirror_mode": {
    "name": "ipython",
    "version": 3
   },
   "file_extension": ".py",
   "mimetype": "text/x-python",
   "name": "python",
   "nbconvert_exporter": "python",
   "pygments_lexer": "ipython3",
   "version": "3.12.0"
  }
 },
 "nbformat": 4,
 "nbformat_minor": 2
}
