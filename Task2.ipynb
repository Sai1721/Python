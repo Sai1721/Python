{
  "nbformat": 4,
  "nbformat_minor": 0,
  "metadata": {
    "colab": {
      "provenance": [],
      "authorship_tag": "ABX9TyNIU51whuDT8495mtLDo0ZC",
      "include_colab_link": true
    },
    "kernelspec": {
      "name": "python3",
      "display_name": "Python 3"
    },
    "language_info": {
      "name": "python"
    }
  },
  "cells": [
    {
      "cell_type": "markdown",
      "metadata": {
        "id": "view-in-github",
        "colab_type": "text"
      },
      "source": [
        "<a href=\"https://colab.research.google.com/github/Sai1721/Python/blob/main/Task2.ipynb\" target=\"_parent\"><img src=\"https://colab.research.google.com/assets/colab-badge.svg\" alt=\"Open In Colab\"/></a>"
      ]
    },
    {
      "cell_type": "code",
      "source": [
        "\n",
        "def sum(n):\n",
        "    natural_numbers=[]\n",
        "    total_sum = 0\n",
        "\n",
        "    for i in range(1, n + 1):\n",
        "        natural_numbers.append(i)\n",
        "        total_sum += i\n",
        "\n",
        "    print(\"The natural numbers up to {}th terms are:\".format(n))\n",
        "    print(*natural_numbers)\n",
        "    print(\"The sum of the natural numbers is:\", total_sum)\n",
        "num_terms = int(input(\"Input a number of terms: \"))\n",
        "sum(num_terms)"
      ],
      "metadata": {
        "colab": {
          "base_uri": "https://localhost:8080/"
        },
        "id": "eDTNu-7-sMu4",
        "outputId": "1138cffb-6bf8-467d-d011-31789d05f4e9"
      },
      "execution_count": 4,
      "outputs": [
        {
          "output_type": "stream",
          "name": "stdout",
          "text": [
            "Input a number of terms: 2\n",
            "The natural numbers up to 2th terms are:\n",
            "1 2\n",
            "The sum of the natural numbers is: 3\n"
          ]
        }
      ]
    }
  ]
}