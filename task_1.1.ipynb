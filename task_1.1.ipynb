{
  "nbformat": 4,
  "nbformat_minor": 0,
  "metadata": {
    "colab": {
      "provenance": [],
      "authorship_tag": "ABX9TyMsThnoQtUDKgx6INyZmxIN",
      "include_colab_link": true
    },
    "kernelspec": {
      "name": "python3",
      "display_name": "Python 3"
    },
    "language_info": {
      "name": "python"
    }
  },
  "cells": [
    {
      "cell_type": "markdown",
      "metadata": {
        "id": "view-in-github",
        "colab_type": "text"
      },
      "source": [
        "<a href=\"https://colab.research.google.com/github/Sai1721/Python/blob/main/task1.ipynb\" target=\"_parent\"><img src=\"https://colab.research.google.com/assets/colab-badge.svg\" alt=\"Open In Colab\"/></a>"
      ]
    },
    {
      "cell_type": "code",
      "execution_count": null,
      "metadata": {
        "colab": {
          "base_uri": "https://localhost:8080/"
        },
        "id": "-MU4uE9k_PjN",
        "outputId": "e2dc41b0-a0bd-481a-a9a9-e6b5ae7e4548"
      },
      "outputs": [
        {
          "output_type": "stream",
          "name": "stdout",
          "text": [
            "Find the first 10 natural numbers:\n",
            "The natural numbers are:\n",
            "1\n",
            "2\n",
            "3\n",
            "4\n",
            "5\n",
            "6\n",
            "7\n",
            "8\n",
            "9\n",
            "10\n",
            "\n",
            " The sum of the first 10 natural numbers: 55\n"
          ]
        }
      ],
      "source": [
        "print(\"Find the first 10 natural numbers:\")\n",
        "print(\"The natural numbers are:\")\n",
        "for i in range(1,11):\n",
        "    print(i)\n",
        "\n",
        "sum_of_numbers=sum(range(1,11))\n",
        "\n",
        "print(\"\\n The sum of the first 10 natural numbers:\",sum_of_numbers)"
      ]
    }
  ]
}