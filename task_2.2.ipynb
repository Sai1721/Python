{
 "cells": [
  {
   "cell_type": "code",
   "execution_count": 1,
   "metadata": {},
   "outputs": [
    {
     "name": "stdout",
     "output_type": "stream",
     "text": [
      "The non-prime numbers are:\n",
      "4 6 8 9 10 12 14 15 16 18 20 21 22 24 25 "
     ]
    }
   ],
   "source": [
    "upperlimit=int(input(\"Input the upperlimit: \"))\n",
    "print(\"The non-prime numbers are:\")\n",
    "for num in range(2,upperlimit+1):\n",
    "    for i in range(2,num):\n",
    "        if num%i==0:\n",
    "            print(num,end=\" \")\n",
    "            break\n"
   ]
  }
 ],
 "metadata": {
  "kernelspec": {
   "display_name": "Python 3",
   "language": "python",
   "name": "python3"
  },
  "language_info": {
   "codemirror_mode": {
    "name": "ipython",
    "version": 3
   },
   "file_extension": ".py",
   "mimetype": "text/x-python",
   "name": "python",
   "nbconvert_exporter": "python",
   "pygments_lexer": "ipython3",
   "version": "3.12.0"
  }
 },
 "nbformat": 4,
 "nbformat_minor": 2
}
